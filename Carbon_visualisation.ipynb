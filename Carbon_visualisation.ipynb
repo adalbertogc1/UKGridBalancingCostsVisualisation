{
  "nbformat": 4,
  "nbformat_minor": 5,
  "metadata": {
    "kernelspec": {
      "display_name": "Python 3",
      "language": "python",
      "name": "python3"
    },
    "language_info": {
      "codemirror_mode": {
        "name": "ipython",
        "version": 3
      },
      "file_extension": ".py",
      "mimetype": "text/x-python",
      "name": "python",
      "nbconvert_exporter": "python",
      "pygments_lexer": "ipython3",
      "version": "3.7.9"
    },
    "colab": {
      "name": "Carbon visualisation.ipynb",
      "provenance": [],
      "collapsed_sections": [],
      "include_colab_link": true
    }
  },
  "cells": [
    {
      "cell_type": "markdown",
      "metadata": {
        "id": "view-in-github",
        "colab_type": "text"
      },
      "source": [
        "<a href=\"https://colab.research.google.com/github/adalbertogc1/UKGridBalancingCostsVisualisation/blob/main/Carbon_visualisation.ipynb\" target=\"_parent\"><img src=\"https://colab.research.google.com/assets/colab-badge.svg\" alt=\"Open In Colab\"/></a>"
      ]
    },
    {
      "cell_type": "markdown",
      "metadata": {
        "id": "_3kABDGZYFmA"
      },
      "source": [
        "# Welcome to grid electricy costs visualiser \n",
        "\n",
        "This collab notebook displays the UK-level grid balancing costs from the ([National Grid](https://data.nationalgrideso.com/) alongside regional information from the [Carbon Intensity API](https://www.carbonintensity.org.uk/) such as the type of energy by source or the carbon intesity for the **next 48 hours.**\n",
        "\n",
        "Information is presented at half-hourly level.\n",
        "\n",
        "Created by: Adalberto Guerra Cabrera (guerraca@icloud.com)\n",
        "\n",
        "\n",
        "### To start, run the initial cell to import dependencies and define some variables"
      ],
      "id": "_3kABDGZYFmA"
    },
    {
      "cell_type": "code",
      "metadata": {
        "id": "human-scotland"
      },
      "source": [
        "from datetime import datetime\n",
        "from datetime import timedelta\n",
        "import pandas as pd\n",
        "import requests \n",
        "import json\n",
        "import pytz\n",
        "import plotly.express as px\n",
        "\n",
        "utc=pytz.UTC\n",
        "\n",
        "region_ids ={\"North Scotland\":1,\"South Scotland\":2,\"North West England\":3,\"North East England\":4,\"Yorkshire\":5,\n",
        "             \"North Wales & Merseyside\":6,\"South Wales\":7,\"West Midlands\":8,\"East Midlands\":9,\"East England\":10,\n",
        "             \"South West England\":11,\"South England\":12,\"London\":13,\"South East England\":14,\"England\":15,\"Scotland\":16,\"Wales\":17}\n",
        "\n",
        "show_options = ['source', 'carbon']\n",
        "\n",
        "energy_sources = (\"biomass\",\"coal\",\"imports\",\"gas\",\"nuclear\",\"other\",\"hydro\",\"solar\",\"wind\")\n"
      ],
      "id": "human-scotland",
      "execution_count": null,
      "outputs": []
    },
    {
      "cell_type": "markdown",
      "metadata": {
        "id": "O5hidC5NX2MW"
      },
      "source": [
        "### Select the UK region and type of context information (energy source or carbon intensity)"
      ],
      "id": "O5hidC5NX2MW"
    },
    {
      "cell_type": "code",
      "metadata": {
        "id": "aMzZ3Md9XxCN"
      },
      "source": [
        "\n",
        "# select region\n",
        "region_id= region_ids[\"Wales\"]\n",
        "\n",
        "# select what you want to see ([0] energy source or [1]carbon intensity)\n",
        "show = show_options[0]\n",
        "\n",
        "# if energy source if selected, select specific energy source \n",
        "# ([0] \"biomass\", [1] \"coal\", [2] \"imports\", [3] \"gas\",[4] \"nuclear\",[5] \"other\",[6] \"hydro\",[7] \"solar\",[8] \"wind\")\n",
        "energy_source = energy_sources[3]"
      ],
      "id": "aMzZ3Md9XxCN",
      "execution_count": null,
      "outputs": []
    },
    {
      "cell_type": "markdown",
      "metadata": {
        "id": "fma_6u_qYckt"
      },
      "source": [
        "### Get the information from the data sources and visualise them in an interactive bar plot"
      ],
      "id": "fma_6u_qYckt"
    },
    {
      "cell_type": "code",
      "metadata": {
        "colab": {
          "base_uri": "https://localhost:8080/",
          "height": 485
        },
        "id": "y1dqQdHGXrnY",
        "outputId": "a768d098-910b-4e81-dd45-f829423b0d6a"
      },
      "source": [
        "\n",
        "def function(x):\n",
        "    x=x-1\n",
        "    if x <= 24:\n",
        "        foo = x % 2\n",
        "        if foo != 0:\n",
        "            temp = \"0\"+str(int(x/2))+\":30\"\n",
        "        else:\n",
        "            temp = \"0\"+str(int(x/2))+\":00\"\n",
        "    else:\n",
        "        if x%2 ==1:\n",
        "            temp = str(int(x/2))+\":30\"\n",
        "        else:\n",
        "            temp = str(int(x/2))+\":00\"\n",
        "    return temp\n",
        "n_days: int = 1\n",
        "start_datetime = utc.localize(datetime.now())\n",
        "end_datetime = start_datetime +timedelta(days=n_days)\n",
        "filename =f\"daily-bsuos-forecast-{end_datetime.date()}.csv\"\n",
        "try: \n",
        "    forecast_df = pd.read_csv(filename, parse_dates=['Datetime'])\n",
        "    forecast_df.set_index('Datetime', inplace=True)\n",
        "    forecast_df.index = pd.to_datetime(forecast_df.index, utc=True)\n",
        "    selected_forecast_df=forecast_df.loc[start_datetime:end_datetime]\n",
        "    if len(selected_forecast_df) <(48*n_days):\n",
        "            raise ValueError(\"WARNING: No data found in the specified dates. Downloading data...\")\n",
        "except Exception as e:\n",
        "    url = requests.get(\"https://data.nationalgrideso.com/balancing/balancing-services-use-of-system-bsuos-daily-forecast/datapackage.json\")\n",
        "    data = json.loads(url.text)\n",
        "    forecast_date = data['metadata_modified'][:10]\n",
        "    print(f\"WARNING: {e}. Downloading data from National Grid.\")\n",
        "    forecast_csv_URL = f\"https://data.nationalgrideso.com/backend/dataset/a8368560-87ac-4d31-85b7-625322430456/resource/586d0e6b-cc03-4312-9df3-407438715eb2/download/daily-bsuos-forecast-{start_datetime.year-1}-{str(start_datetime.year)[:-2]}.csv\"\n",
        "    #settled_cost_URL = \"https://data.nationalgrideso.com/backend/dataset/d6a4bf54-c63f-4014-a716-49fd3878ca52/resource/26b0f410-27d4-448a-9437-45277818b838/download/current_rf_bsuos_data.csv\"\n",
        "    forecast_df = pd.read_csv(forecast_csv_URL,encoding = \"ISO-8859-1\")\n",
        "    forecast_df = forecast_df[[\"Date\", \"SP\",\"BSUoS £/MWh\"]]\n",
        "    forecast_df['Date'] = pd.to_datetime(forecast_df['Date'])\n",
        "    forecast_df['Time'] = forecast_df['SP'].apply(function)\n",
        "    forecast_df['Datetime'] = pd.to_datetime(forecast_df['Date'].apply(str)+' '+forecast_df['Time'])\n",
        "    forecast_df.drop([\"Date\",\"SP\",\"Time\"], axis=1, inplace=True)\n",
        "    forecast_df.set_index('Datetime', inplace=True)\n",
        "    forecast_df.to_csv(filename)\n",
        "    forecast_df.index = pd.to_datetime(forecast_df.index, utc=True)\n",
        "    selected_forecast_df=forecast_df.loc[start_datetime:end_datetime]\n",
        "    if len(selected_forecast_df) <(48*n_days):\n",
        "            raise ValueError(\"No data found in the specified dates. Try to reduce the number of forecast days.\")\n",
        "    else:\n",
        "        print(f\"INFO: Data from National grid downloaded.\")\n",
        "\n",
        "### Carbon Intensity for Scotland\n",
        "#Information obtained from <https://www.carbonintensity.org.uk/>\n",
        "# https://carbon-intensity.github.io/api-definitions/#get-regional\n",
        "\n",
        "\n",
        "filename = \"regionId_{}_date_{}.json\".format(region_id,start_datetime.date())\n",
        "\n",
        "try:\n",
        "    with open(filename, 'r') as f:\n",
        "        payload = json.loads(f.read())\n",
        "except Exception as e:\n",
        "    print(f\"INFO: Exception: {e}.\\n\")\n",
        "    print(\"INFO: Downloading data from carbonintensity.org.uk \")\n",
        "    \n",
        "    carbon_url = f'https://api.carbonintensity.org.uk/regional/intensity/{start_datetime.isoformat()}/fw48h/regionid/{region_id}'\n",
        "    headers = {'Accept': 'application/json'}\n",
        "    response = requests.get(carbon_url, params={}, headers = headers) \n",
        "    payload = response.json()\n",
        "    with open(filename, 'w+') as f:\n",
        "        json.dump(payload, f, indent=4)\n",
        "    print(\"INFO: Data from carbonintensity.org.uk downloaded.\")\n",
        "intensity= {}\n",
        "\n",
        "short_name = payload['data']['shortname']\n",
        "for data in payload['data']['data']:\n",
        "    intensity[data['to']]={}\n",
        "    intensity[data['to']]['intensity'] = data['intensity']['forecast']\n",
        "    intensity[data['to']]['index'] = data['intensity']['index']\n",
        "    for fuel in data['generationmix']:\n",
        "        intensity[data['to']][fuel['fuel']]= float(fuel['perc'])\n",
        "\n",
        "    \n",
        "intensity_df = pd.DataFrame.from_dict(intensity, orient='index')\n",
        "intensity_df.index = pd.to_datetime(intensity_df.index, utc=True)\n",
        "\n",
        "df =selected_forecast_df.merge(intensity_df.loc[start_datetime:end_datetime], how='inner', left_index=True, right_index=True)\n",
        "df['Datetime']= df.index\n",
        "\n",
        "if show == 'source':\n",
        "    color_data = energy_source\n",
        "else:\n",
        "    color_data = 'intensity'\n",
        "\n",
        "fig = px.bar(df, x='Datetime', y='BSUoS £/MWh',\n",
        "             hover_data=['BSUoS £/MWh', 'intensity'], color=color_data,\n",
        "             labels={'BSUoS £/MWh':'Electricity cost (£/MWh)','gas':'% of the mix coming from gas','nuclear':'% of the mix coming from nuclear',\n",
        "                    'solar':'% of the mix coming from solar', 'wind':'% of the mix coming from wind',\n",
        "                    'intensity': 'Carbon intensity (gCO2/kWh)'}, height=400,\n",
        "            title=f\"Electricity cost for the next 48h for the {short_name} region\", color_continuous_scale=\"Bluered\")\n",
        "fig.show()"
      ],
      "id": "y1dqQdHGXrnY",
      "execution_count": null,
      "outputs": [
        {
          "output_type": "stream",
          "name": "stdout",
          "text": [
            "INFO: Exception: [Errno 2] No such file or directory: 'regionId_17_date_2021-09-27.json'.\n",
            "\n",
            "INFO: Downloading data from carbonintensity.org.uk \n",
            "INFO: Data from carbonintensity.org.uk downloaded.\n"
          ]
        },
        {
          "output_type": "display_data",
          "data": {
            "text/html": [
              "<html>\n",
              "<head><meta charset=\"utf-8\" /></head>\n",
              "<body>\n",
              "    <div>\n",
              "            <script src=\"https://cdnjs.cloudflare.com/ajax/libs/mathjax/2.7.5/MathJax.js?config=TeX-AMS-MML_SVG\"></script><script type=\"text/javascript\">if (window.MathJax) {MathJax.Hub.Config({SVG: {font: \"STIX-Web\"}});}</script>\n",
              "                <script type=\"text/javascript\">window.PlotlyConfig = {MathJaxConfig: 'local'};</script>\n",
              "        <script src=\"https://cdn.plot.ly/plotly-latest.min.js\"></script>    \n",
              "            <div id=\"7d39db41-fe53-4dee-b8ad-74a02acf1a4f\" class=\"plotly-graph-div\" style=\"height:400px; width:100%;\"></div>\n",
              "            <script type=\"text/javascript\">\n",
              "                \n",
              "                    window.PLOTLYENV=window.PLOTLYENV || {};\n",
              "                    \n",
              "                if (document.getElementById(\"7d39db41-fe53-4dee-b8ad-74a02acf1a4f\")) {\n",
              "                    Plotly.newPlot(\n",
              "                        '7d39db41-fe53-4dee-b8ad-74a02acf1a4f',\n",
              "                        [{\"alignmentgroup\": \"True\", \"customdata\": [[8.3, 164.0], [9.73, 166.0], [9.82, 156.0], [10.08, 149.0], [5.64, 146.0], [7.26, 135.0], [6.99, 135.0], [7.14, 113.0], [8.08, 97.0], [13.99, 87.0], [14.68, 93.0], [15.15, 93.0], [15.6, 96.0], [15.74, 95.0], [15.64, 94.0], [15.82, 89.0], [16.05, 90.0], [16.17, 93.0], [16.25, 91.0], [13.35, 91.0], [11.33, 89.0], [12.44, 102.0], [10.6, 166.0], [9.89, 198.0], [12.42, 207.0], [6.99, 201.0], [6.59, 195.0], [4.97, 193.0], [3.56, 193.0], [3.57, 181.0], [3.58, 180.0], [3.62, 178.0], [4.77, 172.0], [3.76, 176.0], [3.66, 185.0], [3.68, 181.0], [3.71, 191.0], [3.73, 196.0], [3.74, 202.0], [3.73, 214.0], [3.73, 226.0], [3.72, 238.0], [9.12, 251.0], [4.68, 257.0], [5.06, 259.0], [8.96, 264.0], [9.58, 272.0], [6.29, 280.0]], \"hoverlabel\": {\"namelength\": 0}, \"hovertemplate\": \"Datetime=%{x}<br>Electricity cost (\\u00a3/MWh)=%{customdata[0]}<br>Carbon intensity (gCO2/kWh)=%{customdata[1]}<br>% of the mix coming from gas=%{marker.color}\", \"legendgroup\": \"\", \"marker\": {\"color\": [41.5, 42.1, 39.2, 37.5, 36.6, 33.4, 33.2, 27.2, 22.7, 19.8, 20.9, 21.1, 21.7, 21.1, 21.4, 19.7, 20.4, 20.9, 20.8, 20.4, 20.8, 22.5, 40.2, 48.2, 50.6, 49.3, 48.0, 47.9, 48.2, 45.1, 44.6, 44.0, 42.5, 43.7, 46.0, 44.8, 47.6, 48.5, 50.2, 52.1, 55.3, 58.5, 62.2, 63.9, 64.6, 65.8, 67.6, 69.8], \"coloraxis\": \"coloraxis\"}, \"name\": \"\", \"offsetgroup\": \"\", \"orientation\": \"v\", \"showlegend\": false, \"textposition\": \"auto\", \"type\": \"bar\", \"x\": [\"2021-09-27T18:30:00\", \"2021-09-27T19:00:00\", \"2021-09-27T19:30:00\", \"2021-09-27T20:00:00\", \"2021-09-27T20:30:00\", \"2021-09-27T21:00:00\", \"2021-09-27T21:30:00\", \"2021-09-27T22:00:00\", \"2021-09-27T22:30:00\", \"2021-09-27T23:00:00\", \"2021-09-27T23:30:00\", \"2021-09-28T00:00:00\", \"2021-09-28T00:30:00\", \"2021-09-28T01:00:00\", \"2021-09-28T01:30:00\", \"2021-09-28T02:00:00\", \"2021-09-28T02:30:00\", \"2021-09-28T03:00:00\", \"2021-09-28T03:30:00\", \"2021-09-28T04:00:00\", \"2021-09-28T04:30:00\", \"2021-09-28T05:00:00\", \"2021-09-28T05:30:00\", \"2021-09-28T06:00:00\", \"2021-09-28T06:30:00\", \"2021-09-28T07:00:00\", \"2021-09-28T07:30:00\", \"2021-09-28T08:00:00\", \"2021-09-28T08:30:00\", \"2021-09-28T09:00:00\", \"2021-09-28T09:30:00\", \"2021-09-28T10:00:00\", \"2021-09-28T10:30:00\", \"2021-09-28T11:00:00\", \"2021-09-28T11:30:00\", \"2021-09-28T12:00:00\", \"2021-09-28T12:30:00\", \"2021-09-28T13:00:00\", \"2021-09-28T13:30:00\", \"2021-09-28T14:00:00\", \"2021-09-28T14:30:00\", \"2021-09-28T15:00:00\", \"2021-09-28T15:30:00\", \"2021-09-28T16:00:00\", \"2021-09-28T16:30:00\", \"2021-09-28T17:00:00\", \"2021-09-28T17:30:00\", \"2021-09-28T18:00:00\"], \"xaxis\": \"x\", \"y\": [8.3, 9.73, 9.82, 10.08, 5.64, 7.26, 6.99, 7.14, 8.08, 13.99, 14.68, 15.15, 15.6, 15.74, 15.64, 15.82, 16.05, 16.17, 16.25, 13.35, 11.33, 12.44, 10.6, 9.89, 12.42, 6.99, 6.59, 4.97, 3.56, 3.57, 3.58, 3.62, 4.77, 3.76, 3.66, 3.68, 3.71, 3.73, 3.74, 3.73, 3.73, 3.72, 9.12, 4.68, 5.06, 8.96, 9.58, 6.29], \"yaxis\": \"y\"}],\n",
              "                        {\"barmode\": \"relative\", \"coloraxis\": {\"colorbar\": {\"title\": {\"text\": \"% of the mix coming from gas\"}}, \"colorscale\": [[0.0, \"rgb(0,0,255)\"], [1.0, \"rgb(255,0,0)\"]]}, \"height\": 400, \"legend\": {\"tracegroupgap\": 0}, \"template\": {\"data\": {\"bar\": [{\"error_x\": {\"color\": \"#2a3f5f\"}, \"error_y\": {\"color\": \"#2a3f5f\"}, \"marker\": {\"line\": {\"color\": \"#E5ECF6\", \"width\": 0.5}}, \"type\": \"bar\"}], \"barpolar\": [{\"marker\": {\"line\": {\"color\": \"#E5ECF6\", \"width\": 0.5}}, \"type\": \"barpolar\"}], \"carpet\": [{\"aaxis\": {\"endlinecolor\": \"#2a3f5f\", \"gridcolor\": \"white\", \"linecolor\": \"white\", \"minorgridcolor\": \"white\", \"startlinecolor\": \"#2a3f5f\"}, \"baxis\": {\"endlinecolor\": \"#2a3f5f\", \"gridcolor\": \"white\", \"linecolor\": \"white\", \"minorgridcolor\": \"white\", \"startlinecolor\": \"#2a3f5f\"}, \"type\": \"carpet\"}], \"choropleth\": [{\"colorbar\": {\"outlinewidth\": 0, \"ticks\": \"\"}, \"type\": \"choropleth\"}], \"contour\": [{\"colorbar\": {\"outlinewidth\": 0, \"ticks\": \"\"}, \"colorscale\": [[0.0, \"#0d0887\"], [0.1111111111111111, \"#46039f\"], [0.2222222222222222, \"#7201a8\"], [0.3333333333333333, \"#9c179e\"], [0.4444444444444444, \"#bd3786\"], [0.5555555555555556, \"#d8576b\"], [0.6666666666666666, \"#ed7953\"], [0.7777777777777778, \"#fb9f3a\"], [0.8888888888888888, \"#fdca26\"], [1.0, \"#f0f921\"]], \"type\": \"contour\"}], \"contourcarpet\": [{\"colorbar\": {\"outlinewidth\": 0, \"ticks\": \"\"}, \"type\": \"contourcarpet\"}], \"heatmap\": [{\"colorbar\": {\"outlinewidth\": 0, \"ticks\": \"\"}, \"colorscale\": [[0.0, \"#0d0887\"], [0.1111111111111111, \"#46039f\"], [0.2222222222222222, \"#7201a8\"], [0.3333333333333333, \"#9c179e\"], [0.4444444444444444, \"#bd3786\"], [0.5555555555555556, \"#d8576b\"], [0.6666666666666666, \"#ed7953\"], [0.7777777777777778, \"#fb9f3a\"], [0.8888888888888888, \"#fdca26\"], [1.0, \"#f0f921\"]], \"type\": \"heatmap\"}], \"heatmapgl\": [{\"colorbar\": {\"outlinewidth\": 0, \"ticks\": \"\"}, \"colorscale\": [[0.0, \"#0d0887\"], [0.1111111111111111, \"#46039f\"], [0.2222222222222222, \"#7201a8\"], [0.3333333333333333, \"#9c179e\"], [0.4444444444444444, \"#bd3786\"], [0.5555555555555556, \"#d8576b\"], [0.6666666666666666, \"#ed7953\"], [0.7777777777777778, \"#fb9f3a\"], [0.8888888888888888, \"#fdca26\"], [1.0, \"#f0f921\"]], \"type\": \"heatmapgl\"}], \"histogram\": [{\"marker\": {\"colorbar\": {\"outlinewidth\": 0, \"ticks\": \"\"}}, \"type\": \"histogram\"}], \"histogram2d\": [{\"colorbar\": {\"outlinewidth\": 0, \"ticks\": \"\"}, \"colorscale\": [[0.0, \"#0d0887\"], [0.1111111111111111, \"#46039f\"], [0.2222222222222222, \"#7201a8\"], [0.3333333333333333, \"#9c179e\"], [0.4444444444444444, \"#bd3786\"], [0.5555555555555556, \"#d8576b\"], [0.6666666666666666, \"#ed7953\"], [0.7777777777777778, \"#fb9f3a\"], [0.8888888888888888, \"#fdca26\"], [1.0, \"#f0f921\"]], \"type\": \"histogram2d\"}], \"histogram2dcontour\": [{\"colorbar\": {\"outlinewidth\": 0, \"ticks\": \"\"}, \"colorscale\": [[0.0, \"#0d0887\"], [0.1111111111111111, \"#46039f\"], [0.2222222222222222, \"#7201a8\"], [0.3333333333333333, \"#9c179e\"], [0.4444444444444444, \"#bd3786\"], [0.5555555555555556, \"#d8576b\"], [0.6666666666666666, \"#ed7953\"], [0.7777777777777778, \"#fb9f3a\"], [0.8888888888888888, \"#fdca26\"], [1.0, \"#f0f921\"]], \"type\": \"histogram2dcontour\"}], \"mesh3d\": [{\"colorbar\": {\"outlinewidth\": 0, \"ticks\": \"\"}, \"type\": \"mesh3d\"}], \"parcoords\": [{\"line\": {\"colorbar\": {\"outlinewidth\": 0, \"ticks\": \"\"}}, \"type\": \"parcoords\"}], \"pie\": [{\"automargin\": true, \"type\": \"pie\"}], \"scatter\": [{\"marker\": {\"colorbar\": {\"outlinewidth\": 0, \"ticks\": \"\"}}, \"type\": \"scatter\"}], \"scatter3d\": [{\"line\": {\"colorbar\": {\"outlinewidth\": 0, \"ticks\": \"\"}}, \"marker\": {\"colorbar\": {\"outlinewidth\": 0, \"ticks\": \"\"}}, \"type\": \"scatter3d\"}], \"scattercarpet\": [{\"marker\": {\"colorbar\": {\"outlinewidth\": 0, \"ticks\": \"\"}}, \"type\": \"scattercarpet\"}], \"scattergeo\": [{\"marker\": {\"colorbar\": {\"outlinewidth\": 0, \"ticks\": \"\"}}, \"type\": \"scattergeo\"}], \"scattergl\": [{\"marker\": {\"colorbar\": {\"outlinewidth\": 0, \"ticks\": \"\"}}, \"type\": \"scattergl\"}], \"scattermapbox\": [{\"marker\": {\"colorbar\": {\"outlinewidth\": 0, \"ticks\": \"\"}}, \"type\": \"scattermapbox\"}], \"scatterpolar\": [{\"marker\": {\"colorbar\": {\"outlinewidth\": 0, \"ticks\": \"\"}}, \"type\": \"scatterpolar\"}], \"scatterpolargl\": [{\"marker\": {\"colorbar\": {\"outlinewidth\": 0, \"ticks\": \"\"}}, \"type\": \"scatterpolargl\"}], \"scatterternary\": [{\"marker\": {\"colorbar\": {\"outlinewidth\": 0, \"ticks\": \"\"}}, \"type\": \"scatterternary\"}], \"surface\": [{\"colorbar\": {\"outlinewidth\": 0, \"ticks\": \"\"}, \"colorscale\": [[0.0, \"#0d0887\"], [0.1111111111111111, \"#46039f\"], [0.2222222222222222, \"#7201a8\"], [0.3333333333333333, \"#9c179e\"], [0.4444444444444444, \"#bd3786\"], [0.5555555555555556, \"#d8576b\"], [0.6666666666666666, \"#ed7953\"], [0.7777777777777778, \"#fb9f3a\"], [0.8888888888888888, \"#fdca26\"], [1.0, \"#f0f921\"]], \"type\": \"surface\"}], \"table\": [{\"cells\": {\"fill\": {\"color\": \"#EBF0F8\"}, \"line\": {\"color\": \"white\"}}, \"header\": {\"fill\": {\"color\": \"#C8D4E3\"}, \"line\": {\"color\": \"white\"}}, \"type\": \"table\"}]}, \"layout\": {\"annotationdefaults\": {\"arrowcolor\": \"#2a3f5f\", \"arrowhead\": 0, \"arrowwidth\": 1}, \"coloraxis\": {\"colorbar\": {\"outlinewidth\": 0, \"ticks\": \"\"}}, \"colorscale\": {\"diverging\": [[0, \"#8e0152\"], [0.1, \"#c51b7d\"], [0.2, \"#de77ae\"], [0.3, \"#f1b6da\"], [0.4, \"#fde0ef\"], [0.5, \"#f7f7f7\"], [0.6, \"#e6f5d0\"], [0.7, \"#b8e186\"], [0.8, \"#7fbc41\"], [0.9, \"#4d9221\"], [1, \"#276419\"]], \"sequential\": [[0.0, \"#0d0887\"], [0.1111111111111111, \"#46039f\"], [0.2222222222222222, \"#7201a8\"], [0.3333333333333333, \"#9c179e\"], [0.4444444444444444, \"#bd3786\"], [0.5555555555555556, \"#d8576b\"], [0.6666666666666666, \"#ed7953\"], [0.7777777777777778, \"#fb9f3a\"], [0.8888888888888888, \"#fdca26\"], [1.0, \"#f0f921\"]], \"sequentialminus\": [[0.0, \"#0d0887\"], [0.1111111111111111, \"#46039f\"], [0.2222222222222222, \"#7201a8\"], [0.3333333333333333, \"#9c179e\"], [0.4444444444444444, \"#bd3786\"], [0.5555555555555556, \"#d8576b\"], [0.6666666666666666, \"#ed7953\"], [0.7777777777777778, \"#fb9f3a\"], [0.8888888888888888, \"#fdca26\"], [1.0, \"#f0f921\"]]}, \"colorway\": [\"#636efa\", \"#EF553B\", \"#00cc96\", \"#ab63fa\", \"#FFA15A\", \"#19d3f3\", \"#FF6692\", \"#B6E880\", \"#FF97FF\", \"#FECB52\"], \"font\": {\"color\": \"#2a3f5f\"}, \"geo\": {\"bgcolor\": \"white\", \"lakecolor\": \"white\", \"landcolor\": \"#E5ECF6\", \"showlakes\": true, \"showland\": true, \"subunitcolor\": \"white\"}, \"hoverlabel\": {\"align\": \"left\"}, \"hovermode\": \"closest\", \"mapbox\": {\"style\": \"light\"}, \"paper_bgcolor\": \"white\", \"plot_bgcolor\": \"#E5ECF6\", \"polar\": {\"angularaxis\": {\"gridcolor\": \"white\", \"linecolor\": \"white\", \"ticks\": \"\"}, \"bgcolor\": \"#E5ECF6\", \"radialaxis\": {\"gridcolor\": \"white\", \"linecolor\": \"white\", \"ticks\": \"\"}}, \"scene\": {\"xaxis\": {\"backgroundcolor\": \"#E5ECF6\", \"gridcolor\": \"white\", \"gridwidth\": 2, \"linecolor\": \"white\", \"showbackground\": true, \"ticks\": \"\", \"zerolinecolor\": \"white\"}, \"yaxis\": {\"backgroundcolor\": \"#E5ECF6\", \"gridcolor\": \"white\", \"gridwidth\": 2, \"linecolor\": \"white\", \"showbackground\": true, \"ticks\": \"\", \"zerolinecolor\": \"white\"}, \"zaxis\": {\"backgroundcolor\": \"#E5ECF6\", \"gridcolor\": \"white\", \"gridwidth\": 2, \"linecolor\": \"white\", \"showbackground\": true, \"ticks\": \"\", \"zerolinecolor\": \"white\"}}, \"shapedefaults\": {\"line\": {\"color\": \"#2a3f5f\"}}, \"ternary\": {\"aaxis\": {\"gridcolor\": \"white\", \"linecolor\": \"white\", \"ticks\": \"\"}, \"baxis\": {\"gridcolor\": \"white\", \"linecolor\": \"white\", \"ticks\": \"\"}, \"bgcolor\": \"#E5ECF6\", \"caxis\": {\"gridcolor\": \"white\", \"linecolor\": \"white\", \"ticks\": \"\"}}, \"title\": {\"x\": 0.05}, \"xaxis\": {\"automargin\": true, \"gridcolor\": \"white\", \"linecolor\": \"white\", \"ticks\": \"\", \"title\": {\"standoff\": 15}, \"zerolinecolor\": \"white\", \"zerolinewidth\": 2}, \"yaxis\": {\"automargin\": true, \"gridcolor\": \"white\", \"linecolor\": \"white\", \"ticks\": \"\", \"title\": {\"standoff\": 15}, \"zerolinecolor\": \"white\", \"zerolinewidth\": 2}}}, \"title\": {\"text\": \"Electricity cost for the next 48h for the Wales region\"}, \"xaxis\": {\"anchor\": \"y\", \"domain\": [0.0, 1.0], \"title\": {\"text\": \"Datetime\"}}, \"yaxis\": {\"anchor\": \"x\", \"domain\": [0.0, 1.0], \"title\": {\"text\": \"Electricity cost (\\u00a3/MWh)\"}}},\n",
              "                        {\"responsive\": true}\n",
              "                    ).then(function(){\n",
              "                            \n",
              "var gd = document.getElementById('7d39db41-fe53-4dee-b8ad-74a02acf1a4f');\n",
              "var x = new MutationObserver(function (mutations, observer) {{\n",
              "        var display = window.getComputedStyle(gd).display;\n",
              "        if (!display || display === 'none') {{\n",
              "            console.log([gd, 'removed!']);\n",
              "            Plotly.purge(gd);\n",
              "            observer.disconnect();\n",
              "        }}\n",
              "}});\n",
              "\n",
              "// Listen for the removal of the full notebook cells\n",
              "var notebookContainer = gd.closest('#notebook-container');\n",
              "if (notebookContainer) {{\n",
              "    x.observe(notebookContainer, {childList: true});\n",
              "}}\n",
              "\n",
              "// Listen for the clearing of the current output cell\n",
              "var outputEl = gd.closest('.output');\n",
              "if (outputEl) {{\n",
              "    x.observe(outputEl, {childList: true});\n",
              "}}\n",
              "\n",
              "                        })\n",
              "                };\n",
              "                \n",
              "            </script>\n",
              "        </div>\n",
              "</body>\n",
              "</html>"
            ]
          },
          "metadata": {}
        }
      ]
    },
    {
      "cell_type": "code",
      "metadata": {
        "id": "heavy-vault"
      },
      "source": [
        ""
      ],
      "id": "heavy-vault",
      "execution_count": null,
      "outputs": []
    }
  ]
}